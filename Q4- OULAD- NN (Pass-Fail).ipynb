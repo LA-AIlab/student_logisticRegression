{
 "cells": [
  {
   "cell_type": "code",
   "execution_count": 3,
   "metadata": {},
   "outputs": [],
   "source": [
    "import matplotlib.pyplot as plt\n",
    "import statsmodels.api as sm\n",
    "import pylab as pl\n",
    "from sklearn.metrics import roc_curve, auc\n",
    "from scipy.stats import gaussian_kde\n",
    "# from sklearn.cross_validation import train_test_split\n",
    "# from sklearn import metrics\n",
    "# from sklearn.model_selection import train_test_split\n",
    "# from sklearn.neighbors import KNeighborsClassifier as KNN\n",
    "# from sklearn.metrics import accuracy_score, precision_score, recall_score, f1_score\n",
    "\n",
    "# from sklearn.linear_model import LogisticRegression\n",
    "# from keras.models import Sequential\n",
    "# from keras.layers import Dense\n",
    "# from keras.layers import LSTM\n",
    "# from keras.layers.embeddings import Embedding\n",
    "# from keras.preprocessing import sequence\n",
    "\n",
    "# from keras.layers import *\n",
    "# np.random.seed()"
   ]
  },
  {
   "cell_type": "code",
   "execution_count": 4,
   "metadata": {},
   "outputs": [],
   "source": [
    "import pandas as pd\n",
    "# from keras.models import Model\n",
    "# from keras.layers import Dense, Input, Dropout, MaxPooling1D, Conv1D\n",
    "# from keras.layers import LSTM, Lambda\n",
    "# from keras.layers import TimeDistributed, Bidirectional\n",
    "# from keras.layers.normalization import BatchNormalization\n",
    "# import numpy as np\n",
    "# import tensorflow as tf\n",
    "# import re\n",
    "# import keras.callbacks\n",
    "# import sys\n",
    "# import os\n",
    "# import pandas\n",
    "# from keras import backend as K"
   ]
  },
  {
   "cell_type": "code",
   "execution_count": 5,
   "metadata": {},
   "outputs": [
    {
     "data": {
      "text/plain": [
       "(22437, 78)"
      ]
     },
     "execution_count": 5,
     "metadata": {},
     "output_type": "execute_result"
    }
   ],
   "source": [
    "import pandas as pd\n",
    "import numpy as np\n",
    "data =pd.read_csv('ALL_FEATURES_Q1+Q2 +Q3+Q4(Pass-fail).csv', low_memory=False, na_values= np.NaN) #FeatureSetTable\n",
    "data.shape"
   ]
  },
  {
   "cell_type": "code",
   "execution_count": 6,
   "metadata": {},
   "outputs": [
    {
     "data": {
      "text/plain": [
       "Index(['final_result', 'id_student', 'code_module', 'code_presentation',\n",
       "       'gender', 'region', 'highest_education', 'imd_band', 'age_band',\n",
       "       'num_of_prev_attempts', 'studied_credits', 'disability', 'AC T. Clicks',\n",
       "       'BC T. Clicks', 'AC DataPlus ', 'AC DualPane', 'AC External Quiz',\n",
       "       'AC Folder', 'AC Forumng', 'AC Glossary', 'AC HomePage',\n",
       "       'AC HtmlActivity', 'AC Oucollaborate', 'AC Oucontent',\n",
       "       'AC Ouelluminate', 'AC Ouwiki', 'AC Page', 'AC Questionnaire',\n",
       "       'AC Quiz', 'AC RepeatActivity', 'AC Resource', 'AC SharedSubPage',\n",
       "       'AC SubPage', 'AC Url', 'TC_ACTIVITY', 'BC Glossary', 'BC DataPlus',\n",
       "       'BC DualPane', 'BC ExternalQuiz', 'BC Forumng', 'BC HomePage',\n",
       "       'BC HtmlActivity', 'BC Oucollaborate', 'BC Oucontent',\n",
       "       'BC Ouelluminate', 'BC OUwiki', 'BC Page', 'BC Questionnaire',\n",
       "       'BC Quiz', 'BC Resources', 'BC SharedSubPage', 'BC SubPage', 'BC Url',\n",
       "       'ModuleAsigns', 'LateAsignsSub', 'PostA-1', 'PreA-1', 'OnAsClicks',\n",
       "       'Q1+Q2+Q3+Q4 DataPlus', 'Q1+Q2+Q3+Q4 DualPane',\n",
       "       'Q1+Q2+Q3+Q4 ExternalQuiz', 'Q1+Q2+Q3+Q4 Folder', 'Q1+Q2+Q3+Q4 Forumng',\n",
       "       'Q1+Q2+Q3+Q4 Glossary', 'Q1+Q2+Q3+Q4 HomePage',\n",
       "       'Q1+Q2+Q3+Q4 HtmlActivity', 'Q1+Q2+Q3+Q4 Oucollaborate',\n",
       "       'Q1+Q2+Q3+Q4 OuContent', 'Q1+Q2+Q3+Q4 OuElluminate',\n",
       "       'Q1+Q2+Q3+Q4 Ouwiki', 'Q1+Q2+Q3+Q4 Page', 'Q1+Q2+Q3+Q4 Questionnaire',\n",
       "       'Q1+Q2+Q3+Q4 Quiz', 'Q1+Q2+Q3+Q4 RepeatActivity',\n",
       "       'Q1+Q2+Q3+Q4 Resource', 'Q1+Q2+Q3+Q4 SharedSubpage',\n",
       "       'Q1+Q2+Q3+Q4 Subpage', 'Q1+Q2+Q3+Q4 Url'],\n",
       "      dtype='object')"
      ]
     },
     "execution_count": 6,
     "metadata": {},
     "output_type": "execute_result"
    }
   ],
   "source": [
    "data.columns"
   ]
  },
  {
   "cell_type": "code",
   "execution_count": 7,
   "metadata": {},
   "outputs": [
    {
     "data": {
      "text/plain": [
       "<matplotlib.axes._subplots.AxesSubplot at 0x7f5f2b607390>"
      ]
     },
     "execution_count": 7,
     "metadata": {},
     "output_type": "execute_result"
    },
    {
     "data": {
      "image/png": "[encoded data removed]",
      "text/plain": [
       "<Figure size 432x288 with 1 Axes>"
      ]
     },
     "metadata": {
      "needs_background": "light"
     },
     "output_type": "display_data"
    }
   ],
   "source": [
    "import matplotlib.pyplot as plt\n",
    "%matplotlib inline\n",
    "data[\"final_result\"].value_counts().plot(kind=\"bar\")"
   ]
  },
  {
   "cell_type": "code",
   "execution_count": 8,
   "metadata": {},
   "outputs": [
    {
     "data": {
      "text/plain": [
       "Index(['final_result', 'code_module', 'code_presentation', 'gender', 'region',\n",
       "       'highest_education', 'imd_band', 'age_band', 'disability'],\n",
       "      dtype='object')"
      ]
     },
     "execution_count": 8,
     "metadata": {},
     "output_type": "execute_result"
    }
   ],
   "source": [
    "data.select_dtypes(include=[\"object\"]).columns"
   ]
  },
  {
   "cell_type": "code",
   "execution_count": 9,
   "metadata": {},
   "outputs": [],
   "source": [
    "d=[ 'highest_education', 'disability', 'gender','final_result']\n",
    "\n",
    "for val in d:\n",
    "    labels,levels = pd.factorize(data[val])\n",
    "    data[val] = labels"
   ]
  },
  {
   "cell_type": "code",
   "execution_count": 10,
   "metadata": {},
   "outputs": [],
   "source": [
    "data=data.drop(['code_module', 'code_presentation','id_student', 'imd_band','age_band', 'region', 'AC T. Clicks',\n",
    "       'BC T. Clicks', 'AC DataPlus ', 'AC DualPane', 'AC External Quiz',\n",
    "       'AC Folder', 'AC Forumng', 'AC Glossary', 'AC HomePage',\n",
    "       'AC HtmlActivity', 'AC Oucollaborate', 'AC Oucontent',\n",
    "       'AC Ouelluminate', 'AC Ouwiki', 'AC Page', 'AC Questionnaire',\n",
    "       'AC Quiz', 'AC RepeatActivity', 'AC Resource', 'AC SharedSubPage',\n",
    "       'AC SubPage', 'AC Url', 'TC_ACTIVITY', 'BC Glossary', 'BC DataPlus',\n",
    "       'BC DualPane', 'BC ExternalQuiz', 'BC Forumng', 'BC HomePage',\n",
    "       'BC HtmlActivity', 'BC Oucollaborate', 'BC Oucontent',\n",
    "       'BC Ouelluminate', 'BC OUwiki', 'BC Page', 'BC Questionnaire',\n",
    "       'BC Quiz', 'BC Resources', 'BC SharedSubPage', 'BC SubPage', 'BC Url','ModuleAsigns',\n",
    "       'LateAsignsSub', 'PostA-1', 'PreA-1', 'OnAsClicks', 'gender', 'highest_education', 'num_of_prev_attempts',\n",
    "       'studied_credits', 'disability'], axis=1)"
   ]
  },
  {
   "cell_type": "code",
   "execution_count": 11,
   "metadata": {},
   "outputs": [
    {
     "data": {
      "text/plain": [
       "(22437, 21)"
      ]
     },
     "execution_count": 11,
     "metadata": {},
     "output_type": "execute_result"
    }
   ],
   "source": [
    "data.shape"
   ]
  },
  {
   "cell_type": "code",
   "execution_count": 12,
   "metadata": {},
   "outputs": [],
   "source": [
    "#data=data.fillna(data.median(), inplace=True)\n",
    "data=data.fillna(0)"
   ]
  },
  {
   "cell_type": "code",
   "execution_count": 13,
   "metadata": {},
   "outputs": [
    {
     "data": {
      "text/html": [
       "<div>\n",
       "<style scoped>\n",
       "    .dataframe tbody tr th:only-of-type {\n",
       "        vertical-align: middle;\n",
       "    }\n",
       "\n",
       "    .dataframe tbody tr th {\n",
       "        vertical-align: top;\n",
       "    }\n",
       "\n",
       "    .dataframe thead th {\n",
       "        text-align: right;\n",
       "    }\n",
       "</style>\n",
       "<table border=\"1\" class=\"dataframe\">\n",
       "  <thead>\n",
       "    <tr style=\"text-align: right;\">\n",
       "      <th></th>\n",
       "      <th>final_result</th>\n",
       "      <th>Q1+Q2+Q3+Q4 DataPlus</th>\n",
       "      <th>Q1+Q2+Q3+Q4 DualPane</th>\n",
       "      <th>Q1+Q2+Q3+Q4 ExternalQuiz</th>\n",
       "      <th>Q1+Q2+Q3+Q4 Folder</th>\n",
       "      <th>Q1+Q2+Q3+Q4 Forumng</th>\n",
       "      <th>Q1+Q2+Q3+Q4 Glossary</th>\n",
       "      <th>Q1+Q2+Q3+Q4 HomePage</th>\n",
       "      <th>Q1+Q2+Q3+Q4 HtmlActivity</th>\n",
       "      <th>Q1+Q2+Q3+Q4 Oucollaborate</th>\n",
       "      <th>...</th>\n",
       "      <th>Q1+Q2+Q3+Q4 OuElluminate</th>\n",
       "      <th>Q1+Q2+Q3+Q4 Ouwiki</th>\n",
       "      <th>Q1+Q2+Q3+Q4 Page</th>\n",
       "      <th>Q1+Q2+Q3+Q4 Questionnaire</th>\n",
       "      <th>Q1+Q2+Q3+Q4 Quiz</th>\n",
       "      <th>Q1+Q2+Q3+Q4 RepeatActivity</th>\n",
       "      <th>Q1+Q2+Q3+Q4 Resource</th>\n",
       "      <th>Q1+Q2+Q3+Q4 SharedSubpage</th>\n",
       "      <th>Q1+Q2+Q3+Q4 Subpage</th>\n",
       "      <th>Q1+Q2+Q3+Q4 Url</th>\n",
       "    </tr>\n",
       "  </thead>\n",
       "  <tbody>\n",
       "    <tr>\n",
       "      <th>0</th>\n",
       "      <td>0</td>\n",
       "      <td>0.0</td>\n",
       "      <td>0.0</td>\n",
       "      <td>0.0</td>\n",
       "      <td>0.0</td>\n",
       "      <td>191.0</td>\n",
       "      <td>0.0</td>\n",
       "      <td>131.0</td>\n",
       "      <td>0.0</td>\n",
       "      <td>0.0</td>\n",
       "      <td>...</td>\n",
       "      <td>0.0</td>\n",
       "      <td>0.0</td>\n",
       "      <td>0.0</td>\n",
       "      <td>0.0</td>\n",
       "      <td>0.0</td>\n",
       "      <td>0.0</td>\n",
       "      <td>0.0</td>\n",
       "      <td>0.0</td>\n",
       "      <td>0.0</td>\n",
       "      <td>0.0</td>\n",
       "    </tr>\n",
       "    <tr>\n",
       "      <th>1</th>\n",
       "      <td>0</td>\n",
       "      <td>0.0</td>\n",
       "      <td>0.0</td>\n",
       "      <td>0.0</td>\n",
       "      <td>0.0</td>\n",
       "      <td>86.0</td>\n",
       "      <td>0.0</td>\n",
       "      <td>236.0</td>\n",
       "      <td>0.0</td>\n",
       "      <td>0.0</td>\n",
       "      <td>...</td>\n",
       "      <td>0.0</td>\n",
       "      <td>0.0</td>\n",
       "      <td>0.0</td>\n",
       "      <td>0.0</td>\n",
       "      <td>0.0</td>\n",
       "      <td>0.0</td>\n",
       "      <td>0.0</td>\n",
       "      <td>0.0</td>\n",
       "      <td>0.0</td>\n",
       "      <td>0.0</td>\n",
       "    </tr>\n",
       "    <tr>\n",
       "      <th>2</th>\n",
       "      <td>1</td>\n",
       "      <td>0.0</td>\n",
       "      <td>0.0</td>\n",
       "      <td>0.0</td>\n",
       "      <td>0.0</td>\n",
       "      <td>14.0</td>\n",
       "      <td>0.0</td>\n",
       "      <td>30.0</td>\n",
       "      <td>0.0</td>\n",
       "      <td>0.0</td>\n",
       "      <td>...</td>\n",
       "      <td>0.0</td>\n",
       "      <td>0.0</td>\n",
       "      <td>0.0</td>\n",
       "      <td>0.0</td>\n",
       "      <td>0.0</td>\n",
       "      <td>0.0</td>\n",
       "      <td>0.0</td>\n",
       "      <td>0.0</td>\n",
       "      <td>20.0</td>\n",
       "      <td>0.0</td>\n",
       "    </tr>\n",
       "    <tr>\n",
       "      <th>3</th>\n",
       "      <td>0</td>\n",
       "      <td>0.0</td>\n",
       "      <td>0.0</td>\n",
       "      <td>0.0</td>\n",
       "      <td>0.0</td>\n",
       "      <td>0.0</td>\n",
       "      <td>0.0</td>\n",
       "      <td>372.0</td>\n",
       "      <td>0.0</td>\n",
       "      <td>0.0</td>\n",
       "      <td>...</td>\n",
       "      <td>0.0</td>\n",
       "      <td>0.0</td>\n",
       "      <td>0.0</td>\n",
       "      <td>0.0</td>\n",
       "      <td>0.0</td>\n",
       "      <td>0.0</td>\n",
       "      <td>0.0</td>\n",
       "      <td>0.0</td>\n",
       "      <td>97.0</td>\n",
       "      <td>0.0</td>\n",
       "    </tr>\n",
       "    <tr>\n",
       "      <th>4</th>\n",
       "      <td>0</td>\n",
       "      <td>0.0</td>\n",
       "      <td>0.0</td>\n",
       "      <td>0.0</td>\n",
       "      <td>0.0</td>\n",
       "      <td>626.0</td>\n",
       "      <td>0.0</td>\n",
       "      <td>645.0</td>\n",
       "      <td>0.0</td>\n",
       "      <td>0.0</td>\n",
       "      <td>...</td>\n",
       "      <td>0.0</td>\n",
       "      <td>0.0</td>\n",
       "      <td>0.0</td>\n",
       "      <td>0.0</td>\n",
       "      <td>0.0</td>\n",
       "      <td>0.0</td>\n",
       "      <td>14.0</td>\n",
       "      <td>0.0</td>\n",
       "      <td>207.0</td>\n",
       "      <td>129.0</td>\n",
       "    </tr>\n",
       "  </tbody>\n",
       "</table>\n",
       "<p>5 rows × 21 columns</p>\n",
       "</div>"
      ],
      "text/plain": [
       "   final_result  Q1+Q2+Q3+Q4 DataPlus  Q1+Q2+Q3+Q4 DualPane  \\\n",
       "0             0                   0.0                   0.0   \n",
       "1             0                   0.0                   0.0   \n",
       "2             1                   0.0                   0.0   \n",
       "3             0                   0.0                   0.0   \n",
       "4             0                   0.0                   0.0   \n",
       "\n",
       "   Q1+Q2+Q3+Q4 ExternalQuiz  Q1+Q2+Q3+Q4 Folder  Q1+Q2+Q3+Q4 Forumng  \\\n",
       "0                       0.0                 0.0                191.0   \n",
       "1                       0.0                 0.0                 86.0   \n",
       "2                       0.0                 0.0                 14.0   \n",
       "3                       0.0                 0.0                  0.0   \n",
       "4                       0.0                 0.0                626.0   \n",
       "\n",
       "   Q1+Q2+Q3+Q4 Glossary  Q1+Q2+Q3+Q4 HomePage  Q1+Q2+Q3+Q4 HtmlActivity  \\\n",
       "0                   0.0                 131.0                       0.0   \n",
       "1                   0.0                 236.0                       0.0   \n",
       "2                   0.0                  30.0                       0.0   \n",
       "3                   0.0                 372.0                       0.0   \n",
       "4                   0.0                 645.0                       0.0   \n",
       "\n",
       "   Q1+Q2+Q3+Q4 Oucollaborate  ...  Q1+Q2+Q3+Q4 OuElluminate  \\\n",
       "0                        0.0  ...                       0.0   \n",
       "1                        0.0  ...                       0.0   \n",
       "2                        0.0  ...                       0.0   \n",
       "3                        0.0  ...                       0.0   \n",
       "4                        0.0  ...                       0.0   \n",
       "\n",
       "   Q1+Q2+Q3+Q4 Ouwiki  Q1+Q2+Q3+Q4 Page  Q1+Q2+Q3+Q4 Questionnaire  \\\n",
       "0                 0.0               0.0                        0.0   \n",
       "1                 0.0               0.0                        0.0   \n",
       "2                 0.0               0.0                        0.0   \n",
       "3                 0.0               0.0                        0.0   \n",
       "4                 0.0               0.0                        0.0   \n",
       "\n",
       "   Q1+Q2+Q3+Q4 Quiz  Q1+Q2+Q3+Q4 RepeatActivity  Q1+Q2+Q3+Q4 Resource  \\\n",
       "0               0.0                         0.0                   0.0   \n",
       "1               0.0                         0.0                   0.0   \n",
       "2               0.0                         0.0                   0.0   \n",
       "3               0.0                         0.0                   0.0   \n",
       "4               0.0                         0.0                  14.0   \n",
       "\n",
       "   Q1+Q2+Q3+Q4 SharedSubpage  Q1+Q2+Q3+Q4 Subpage  Q1+Q2+Q3+Q4 Url  \n",
       "0                        0.0                  0.0              0.0  \n",
       "1                        0.0                  0.0              0.0  \n",
       "2                        0.0                 20.0              0.0  \n",
       "3                        0.0                 97.0              0.0  \n",
       "4                        0.0                207.0            129.0  \n",
       "\n",
       "[5 rows x 21 columns]"
      ]
     },
     "execution_count": 13,
     "metadata": {},
     "output_type": "execute_result"
    }
   ],
   "source": [
    "data.head()"
   ]
  },
  {
   "cell_type": "code",
   "execution_count": 14,
   "metadata": {},
   "outputs": [
    {
     "data": {
      "text/plain": [
       "array([[0.        , 0.        , 0.        , ..., 0.        , 0.        ,\n",
       "        0.        ],\n",
       "       [0.        , 0.        , 0.        , ..., 0.        , 0.        ,\n",
       "        0.        ],\n",
       "       [0.        , 0.        , 0.        , ..., 0.        , 0.00471365,\n",
       "        0.        ],\n",
       "       ...,\n",
       "       [0.        , 0.        , 0.        , ..., 0.        , 0.        ,\n",
       "        0.        ],\n",
       "       [0.        , 0.        , 0.        , ..., 0.        , 0.        ,\n",
       "        0.        ],\n",
       "       [0.        , 0.        , 0.        , ..., 0.        , 0.        ,\n",
       "        0.        ]])"
      ]
     },
     "execution_count": 14,
     "metadata": {},
     "output_type": "execute_result"
    }
   ],
   "source": [
    "from sklearn import preprocessing\n",
    "a=(data.iloc[:,1:21])\n",
    "#a=data\n",
    "#x = data.values #returns a numpy array\n",
    "min_max_scaler = preprocessing.MinMaxScaler()\n",
    "x_scaled = min_max_scaler.fit_transform(a)\n",
    "#df = pd.DataFrame(x_scaled,columns=data.columns)\n",
    "x_scaled"
   ]
  },
  {
   "cell_type": "code",
   "execution_count": 15,
   "metadata": {},
   "outputs": [
    {
     "data": {
      "text/plain": [
       "(22437, 20)"
      ]
     },
     "execution_count": 15,
     "metadata": {},
     "output_type": "execute_result"
    }
   ],
   "source": [
    "X=x_scaled\n",
    "X.shape\n",
    "Y=data['final_result']\n",
    "\n",
    "\n",
    "X=data.iloc[:,1:21]\n",
    "Y=data['final_result']\n",
    "X.shape\n",
    "\n"
   ]
  },
  {
   "cell_type": "code",
   "execution_count": 18,
   "metadata": {},
   "outputs": [
    {
     "data": {
      "text/plain": [
       "Index(['final_result', 'Q1+Q2+Q3+Q4 DataPlus', 'Q1+Q2+Q3+Q4 DualPane',\n",
       "       'Q1+Q2+Q3+Q4 ExternalQuiz', 'Q1+Q2+Q3+Q4 Folder', 'Q1+Q2+Q3+Q4 Forumng',\n",
       "       'Q1+Q2+Q3+Q4 Glossary', 'Q1+Q2+Q3+Q4 HomePage',\n",
       "       'Q1+Q2+Q3+Q4 HtmlActivity', 'Q1+Q2+Q3+Q4 Oucollaborate',\n",
       "       'Q1+Q2+Q3+Q4 OuContent', 'Q1+Q2+Q3+Q4 OuElluminate',\n",
       "       'Q1+Q2+Q3+Q4 Ouwiki', 'Q1+Q2+Q3+Q4 Page', 'Q1+Q2+Q3+Q4 Questionnaire',\n",
       "       'Q1+Q2+Q3+Q4 Quiz', 'Q1+Q2+Q3+Q4 RepeatActivity',\n",
       "       'Q1+Q2+Q3+Q4 Resource', 'Q1+Q2+Q3+Q4 SharedSubpage',\n",
       "       'Q1+Q2+Q3+Q4 Subpage', 'Q1+Q2+Q3+Q4 Url'],\n",
       "      dtype='object')"
      ]
     },
     "execution_count": 18,
     "metadata": {},
     "output_type": "execute_result"
    }
   ],
   "source": [
    "data.columns\n"
   ]
  },
  {
   "cell_type": "code",
   "execution_count": 19,
   "metadata": {},
   "outputs": [],
   "source": [
    "from sklearn.model_selection import train_test_split"
   ]
  },
  {
   "cell_type": "code",
   "execution_count": 20,
   "metadata": {},
   "outputs": [],
   "source": [
    "X_train, X_test, y_train, y_test = train_test_split(X,Y,test_size=0.30,random_state=123)"
   ]
  },
  {
   "cell_type": "code",
   "execution_count": 24,
   "metadata": {},
   "outputs": [
    {
     "name": "stdout",
     "output_type": "stream",
     "text": [
      "Collecting package metadata (current_repodata.json): done\n",
      "Solving environment: failed with initial frozen solve. Retrying with flexible solve.\n",
      "Solving environment: done\n",
      "\n",
      "\n",
      "==> WARNING: A newer version of conda exists. <==\n",
      "  current version: 4.8.2\n",
      "  latest version: 4.9.2\n",
      "\n",
      "Please update conda by running\n",
      "\n",
      "    $ conda update -n base conda\n",
      "\n",
      "\n",
      "Collecting package metadata (repodata.json): done\n",
      "Solving environment: failed with initial frozen solve. Retrying with flexible solve.\n",
      "Solving environment: done\n",
      "\n",
      "\n",
      "==> WARNING: A newer version of conda exists. <==\n",
      "  current version: 4.8.2\n",
      "  latest version: 4.9.2\n",
      "\n",
      "Please update conda by running\n",
      "\n",
      "    $ conda update -n base conda\n",
      "\n",
      "\n",
      "\n",
      "## Package Plan ##\n",
      "\n",
      "  environment location: /opt/conda\n",
      "\n",
      "  added / updated specs:\n",
      "    - keras\n",
      "\n",
      "\n",
      "The following packages will be downloaded:\n",
      "\n",
      "    package                    |            build\n",
      "    ---------------------------|-----------------\n",
      "    absl-py-0.11.0             |   py37h89c1867_0         168 KB  conda-forge\n",
      "    astor-0.8.1                |     pyh9f0ad1d_0          25 KB  conda-forge\n",
      "    c-ares-1.17.1              |       h36c2ea0_0         111 KB  conda-forge\n",
      "    ca-certificates-2020.12.5  |       ha878542_0         137 KB  conda-forge\n",
      "    certifi-2020.12.5          |   py37h89c1867_1         143 KB  conda-forge\n",
      "    cffi-1.14.4                |   py37hc58025e_1         225 KB  conda-forge\n",
      "    gast-0.4.0                 |     pyh9f0ad1d_0          12 KB  conda-forge\n",
      "    google-pasta-0.2.0         |     pyh8c360ce_0          42 KB  conda-forge\n",
      "    grpcio-1.34.1              |   py37hb27c1af_0         2.0 MB  conda-forge\n",
      "    keras-2.3.1                |           py37_0         591 KB  conda-forge\n",
      "    keras-applications-1.0.8   |             py_1          30 KB  conda-forge\n",
      "    keras-preprocessing-1.1.2  |     pyhd8ed1ab_0          34 KB  conda-forge\n",
      "    libcurl-7.71.1             |       hcdd3856_8         312 KB  conda-forge\n",
      "    libev-4.33                 |       h516909a_1         104 KB  conda-forge\n",
      "    libffi-3.3                 |       h58526e2_2          51 KB  conda-forge\n",
      "    libgcc-ng-9.3.0            |      h2828fa1_18         7.8 MB  conda-forge\n",
      "    libgomp-9.3.0              |      h2828fa1_18         376 KB  conda-forge\n",
      "    libgpuarray-0.7.6          |    h14c3975_1003         263 KB  conda-forge\n",
      "    libnghttp2-1.41.0          |       h8cfc5f6_2         774 KB  conda-forge\n",
      "    libssh2-1.9.0              |       hab1572f_5         225 KB  conda-forge\n",
      "    libstdcxx-ng-9.3.0         |      h6de172a_18         4.0 MB  conda-forge\n",
      "    markdown-3.3.3             |     pyh9f0ad1d_0          66 KB  conda-forge\n",
      "    ncurses-6.2                |       h58526e2_4         985 KB  conda-forge\n",
      "    openssl-1.1.1i             |       h7f98852_0         2.1 MB  conda-forge\n",
      "    pygpu-0.7.6                |py37h902c9e0_1002         663 KB  conda-forge\n",
      "    python-3.7.9               |hffdb5ce_0_cpython        57.3 MB  conda-forge\n",
      "    sqlite-3.34.0              |       h74cdb3f_0         1.4 MB  conda-forge\n",
      "    tensorboard-1.14.0         |           py37_0         3.2 MB  conda-forge\n",
      "    tensorflow-1.14.0          |       h4531e10_0          23 KB  conda-forge\n",
      "    tensorflow-base-1.14.0     |   py37h4531e10_0        87.6 MB  conda-forge\n",
      "    tensorflow-estimator-1.14.0|   py37h5ca1d4c_0         645 KB  conda-forge\n",
      "    termcolor-1.1.0            |             py_2           6 KB  conda-forge\n",
      "    theano-1.0.3               |   py37hfc679d8_1         3.6 MB  conda-forge\n",
      "    toolchain-2.4.0            |                0          14 KB  defaults\n",
      "    toolchain_c_linux-64-2.4.0 |                0          13 KB  defaults\n",
      "    toolchain_cxx_linux-64-2.4.0|                0          13 KB  defaults\n",
      "    werkzeug-1.0.1             |     pyh9f0ad1d_0         239 KB  conda-forge\n",
      "    wrapt-1.12.1               |   py37h5e8e339_3          47 KB  conda-forge\n",
      "    ------------------------------------------------------------\n",
      "                                           Total:       175.4 MB\n",
      "\n",
      "The following NEW packages will be INSTALLED:\n",
      "\n",
      "  absl-py            conda-forge/linux-64::absl-py-0.11.0-py37h89c1867_0\n",
      "  astor              conda-forge/noarch::astor-0.8.1-pyh9f0ad1d_0\n",
      "  c-ares             conda-forge/linux-64::c-ares-1.17.1-h36c2ea0_0\n",
      "  gast               conda-forge/noarch::gast-0.4.0-pyh9f0ad1d_0\n",
      "  google-pasta       conda-forge/noarch::google-pasta-0.2.0-pyh8c360ce_0\n",
      "  grpcio             conda-forge/linux-64::grpcio-1.34.1-py37hb27c1af_0\n",
      "  keras              conda-forge/linux-64::keras-2.3.1-py37_0\n",
      "  keras-applications conda-forge/noarch::keras-applications-1.0.8-py_1\n",
      "  keras-preprocessi~ conda-forge/noarch::keras-preprocessing-1.1.2-pyhd8ed1ab_0\n",
      "  libev              conda-forge/linux-64::libev-4.33-h516909a_1\n",
      "  libgpuarray        conda-forge/linux-64::libgpuarray-0.7.6-h14c3975_1003\n",
      "  libnghttp2         conda-forge/linux-64::libnghttp2-1.41.0-h8cfc5f6_2\n",
      "  markdown           conda-forge/noarch::markdown-3.3.3-pyh9f0ad1d_0\n",
      "  pygpu              conda-forge/linux-64::pygpu-0.7.6-py37h902c9e0_1002\n",
      "  tensorboard        conda-forge/linux-64::tensorboard-1.14.0-py37_0\n",
      "  tensorflow         conda-forge/linux-64::tensorflow-1.14.0-h4531e10_0\n",
      "  tensorflow-base    conda-forge/linux-64::tensorflow-base-1.14.0-py37h4531e10_0\n",
      "  tensorflow-estima~ conda-forge/linux-64::tensorflow-estimator-1.14.0-py37h5ca1d4c_0\n",
      "  termcolor          conda-forge/noarch::termcolor-1.1.0-py_2\n",
      "  theano             conda-forge/linux-64::theano-1.0.3-py37hfc679d8_1\n",
      "  toolchain          pkgs/main/linux-64::toolchain-2.4.0-0\n",
      "  toolchain_c_linux~ pkgs/main/linux-64::toolchain_c_linux-64-2.4.0-0\n",
      "  toolchain_cxx_lin~ pkgs/main/linux-64::toolchain_cxx_linux-64-2.4.0-0\n",
      "  werkzeug           conda-forge/noarch::werkzeug-1.0.1-pyh9f0ad1d_0\n",
      "  wrapt              conda-forge/linux-64::wrapt-1.12.1-py37h5e8e339_3\n",
      "\n",
      "The following packages will be UPDATED:\n",
      "\n",
      "  ca-certificates                      2020.6.20-hecda079_0 --> 2020.12.5-ha878542_0\n",
      "  certifi                          2020.6.20-py37hc8dfbb8_0 --> 2020.12.5-py37h89c1867_1\n",
      "  cffi                                1.14.0-py37hd463f26_0 --> 1.14.4-py37hc58025e_1\n",
      "  libcurl                                 7.69.1-hf7181ac_0 --> 7.71.1-hcdd3856_8\n",
      "  libffi                                3.2.1-he1b5a44_1007 --> 3.3-h58526e2_2\n",
      "  libgcc-ng                                9.2.0-h24d8f2e_2 --> 9.3.0-h2828fa1_18\n",
      "  libgomp                                  9.2.0-h24d8f2e_2 --> 9.3.0-h2828fa1_18\n",
      "  libssh2                                  1.8.2-h22169c7_2 --> 1.9.0-hab1572f_5\n",
      "  libstdcxx-ng                             9.2.0-hdf63c60_2 --> 9.3.0-h6de172a_18\n",
      "  ncurses                                 6.1-hf484d3e_1002 --> 6.2-h58526e2_4\n",
      "  openssl                                 1.1.1g-h516909a_1 --> 1.1.1i-h7f98852_0\n",
      "  python                           3.7.6-h8356626_5_cpython --> 3.7.9-hffdb5ce_0_cpython\n",
      "  sqlite                                  3.30.1-hcee41ef_0 --> 3.34.0-h74cdb3f_0\n",
      "\n",
      "\n",
      "Proceed ([y]/n)? ^C\n",
      "\n",
      "CondaSystemExit: \n",
      "Operation aborted.  Exiting.\n",
      "\n"
     ]
    }
   ],
   "source": [
    "!conda install keras"
   ]
  },
  {
   "cell_type": "code",
   "execution_count": null,
   "metadata": {},
   "outputs": [],
   "source": [
    "import keras"
   ]
  },
  {
   "cell_type": "code",
   "execution_count": 21,
   "metadata": {},
   "outputs": [
    {
     "ename": "NameError",
     "evalue": "name 'keras' is not defined",
     "output_type": "error",
     "traceback": [
      "\u001b[0;31m---------------------------------------------------------------------------\u001b[0m",
      "\u001b[0;31mNameError\u001b[0m                                 Traceback (most recent call last)",
      "\u001b[0;32m<ipython-input-21-a9a3d4b32ebf>\u001b[0m in \u001b[0;36m<module>\u001b[0;34m\u001b[0m\n\u001b[1;32m     58\u001b[0m \u001b[0;34m\u001b[0m\u001b[0m\n\u001b[1;32m     59\u001b[0m \u001b[0;31m# record history of training\u001b[0m\u001b[0;34m\u001b[0m\u001b[0;34m\u001b[0m\u001b[0;34m\u001b[0m\u001b[0m\n\u001b[0;32m---> 60\u001b[0;31m \u001b[0;32mclass\u001b[0m \u001b[0mLossHistory\u001b[0m\u001b[0;34m(\u001b[0m\u001b[0mkeras\u001b[0m\u001b[0;34m.\u001b[0m\u001b[0mcallbacks\u001b[0m\u001b[0;34m.\u001b[0m\u001b[0mCallback\u001b[0m\u001b[0;34m)\u001b[0m\u001b[0;34m:\u001b[0m\u001b[0;34m\u001b[0m\u001b[0;34m\u001b[0m\u001b[0m\n\u001b[0m\u001b[1;32m     61\u001b[0m     \u001b[0;32mdef\u001b[0m \u001b[0mon_train_begin\u001b[0m\u001b[0;34m(\u001b[0m\u001b[0mself\u001b[0m\u001b[0;34m,\u001b[0m \u001b[0mlogs\u001b[0m\u001b[0;34m=\u001b[0m\u001b[0;34m{\u001b[0m\u001b[0;34m}\u001b[0m\u001b[0;34m)\u001b[0m\u001b[0;34m:\u001b[0m\u001b[0;34m\u001b[0m\u001b[0;34m\u001b[0m\u001b[0m\n\u001b[1;32m     62\u001b[0m         \u001b[0mself\u001b[0m\u001b[0;34m.\u001b[0m\u001b[0mlosses\u001b[0m \u001b[0;34m=\u001b[0m \u001b[0;34m[\u001b[0m\u001b[0;34m]\u001b[0m\u001b[0;34m\u001b[0m\u001b[0;34m\u001b[0m\u001b[0m\n",
      "\u001b[0;31mNameError\u001b[0m: name 'keras' is not defined"
     ]
    }
   ],
   "source": [
    "def precision(y_true, y_pred):\n",
    "    \"\"\"Precision metric.\n",
    "\n",
    "    Only computes a batch-wise average of precision.\n",
    "\n",
    "    Computes the precision, a metric for multi-label classification of\n",
    "    how many selected items are relevant.\n",
    "    \"\"\"\n",
    "    true_positives = K.sum(K.round(K.clip(y_true * y_pred, 0, 1)))\n",
    "    predicted_positives = K.sum(K.round(K.clip(y_pred, 0, 1)))\n",
    "    precision = true_positives / (predicted_positives + K.epsilon())\n",
    "    return precision\n",
    "\n",
    "def recall(y_true, y_pred):\n",
    "    \"\"\"Recall metric.\n",
    "\n",
    "    Only computes a batch-wise average of recall.\n",
    "\n",
    "    Computes the recall, a metric for multi-label classification of\n",
    "    how many relevant items are selected.\n",
    "    \"\"\"\n",
    "    true_positives = K.sum(K.round(K.clip(y_true * y_pred, 0, 1)))\n",
    "    possible_positives = K.sum(K.round(K.clip(y_true, 0, 1)))\n",
    "    recall = true_positives / (possible_positives + K.epsilon())\n",
    "    return recall\n",
    "\n",
    "def f1(y_true, y_pred):\n",
    "    def recall(y_true, y_pred):\n",
    "        \"\"\"Recall metric.\n",
    "\n",
    "        Only computes a batch-wise average of recall.\n",
    "\n",
    "        Computes the recall, a metric for multi-label classification of\n",
    "        how many relevant items are selected.\n",
    "        \"\"\"\n",
    "        true_positives = K.sum(K.round(K.clip(y_true * y_pred, 0, 1)))\n",
    "        possible_positives = K.sum(K.round(K.clip(y_true, 0, 1)))\n",
    "        recall = true_positives / (possible_positives + K.epsilon())\n",
    "        return recall\n",
    "\n",
    "    def precision(y_true, y_pred):\n",
    "        \"\"\"Precision metric.\n",
    "\n",
    "        Only computes a batch-wise average of precision.\n",
    "\n",
    "        Computes the precision, a metric for multi-label classification of\n",
    "        how many selected items are relevant.\n",
    "        \"\"\"\n",
    "        true_positives = K.sum(K.round(K.clip(y_true * y_pred, 0, 1)))\n",
    "        predicted_positives = K.sum(K.round(K.clip(y_pred, 0, 1)))\n",
    "        precision = true_positives / (predicted_positives + K.epsilon())\n",
    "        return precision\n",
    "    precision = precision(y_true, y_pred)\n",
    "    recall = recall(y_true, y_pred)\n",
    "    return 2*((precision*recall)/(precision+recall))\n",
    "\n",
    "\n",
    "\n",
    "# record history of training\n",
    "class LossHistory(keras.callbacks.Callback):\n",
    "    def on_train_begin(self, logs={}):\n",
    "        self.losses = []\n",
    "        self.accuracies = []\n",
    "\n",
    "    def on_batch_end(self, batch, logs={}):\n",
    "        self.losses.append(logs.get('loss'))\n",
    "        self.accuracies.append(logs.get('acc'))\n",
    "\n",
    "\n",
    "total = len(sys.argv)\n",
    "cmdargs = str(sys.argv)\n",
    "\n",
    "print (\"Script name: %s\" % str(sys.argv[0]))\n",
    "checkpoint = None\n",
    "if len(sys.argv) == 2:\n",
    "    if os.path.exists(str(sys.argv[1])):\n",
    "        print (\"Checkpoint : %s\" % str(sys.argv[1]))\n",
    "        checkpoint = str(sys.argv[1])\n",
    "        print(\"check point\")\n"
   ]
  },
  {
   "cell_type": "code",
   "execution_count": 22,
   "metadata": {},
   "outputs": [
    {
     "ename": "NameError",
     "evalue": "name 'Sequential' is not defined",
     "output_type": "error",
     "traceback": [
      "\u001b[0;31m---------------------------------------------------------------------------\u001b[0m",
      "\u001b[0;31mNameError\u001b[0m                                 Traceback (most recent call last)",
      "\u001b[0;32m<ipython-input-22-9756dd814f20>\u001b[0m in \u001b[0;36m<module>\u001b[0;34m\u001b[0m\n\u001b[0;32m----> 1\u001b[0;31m \u001b[0mmodel\u001b[0m \u001b[0;34m=\u001b[0m \u001b[0mSequential\u001b[0m\u001b[0;34m(\u001b[0m\u001b[0;34m)\u001b[0m\u001b[0;34m\u001b[0m\u001b[0;34m\u001b[0m\u001b[0m\n\u001b[0m\u001b[1;32m      2\u001b[0m \u001b[0mmodel\u001b[0m\u001b[0;34m.\u001b[0m\u001b[0madd\u001b[0m\u001b[0;34m(\u001b[0m\u001b[0mDense\u001b[0m\u001b[0;34m(\u001b[0m\u001b[0;36m20\u001b[0m\u001b[0;34m,\u001b[0m \u001b[0minput_dim\u001b[0m\u001b[0;34m=\u001b[0m\u001b[0mX_train\u001b[0m\u001b[0;34m.\u001b[0m\u001b[0mshape\u001b[0m\u001b[0;34m[\u001b[0m\u001b[0;36m1\u001b[0m\u001b[0;34m]\u001b[0m\u001b[0;34m,\u001b[0m \u001b[0mactivation\u001b[0m\u001b[0;34m=\u001b[0m\u001b[0;34m'relu'\u001b[0m\u001b[0;34m)\u001b[0m\u001b[0;34m)\u001b[0m\u001b[0;34m\u001b[0m\u001b[0;34m\u001b[0m\u001b[0m\n\u001b[1;32m      3\u001b[0m \u001b[0mmodel\u001b[0m\u001b[0;34m.\u001b[0m\u001b[0madd\u001b[0m\u001b[0;34m(\u001b[0m\u001b[0mDense\u001b[0m\u001b[0;34m(\u001b[0m\u001b[0;36m50\u001b[0m\u001b[0;34m,\u001b[0m \u001b[0mactivation\u001b[0m\u001b[0;34m=\u001b[0m\u001b[0;34m'relu'\u001b[0m\u001b[0;34m)\u001b[0m\u001b[0;34m)\u001b[0m\u001b[0;34m\u001b[0m\u001b[0;34m\u001b[0m\u001b[0m\n\u001b[1;32m      4\u001b[0m \u001b[0;31m#model.add(Dropout(0.2))\u001b[0m\u001b[0;34m\u001b[0m\u001b[0;34m\u001b[0m\u001b[0;34m\u001b[0m\u001b[0m\n\u001b[1;32m      5\u001b[0m \u001b[0mmodel\u001b[0m\u001b[0;34m.\u001b[0m\u001b[0madd\u001b[0m\u001b[0;34m(\u001b[0m\u001b[0mDense\u001b[0m\u001b[0;34m(\u001b[0m\u001b[0;36m30\u001b[0m\u001b[0;34m,\u001b[0m \u001b[0mactivation\u001b[0m\u001b[0;34m=\u001b[0m\u001b[0;34m'relu'\u001b[0m\u001b[0;34m)\u001b[0m\u001b[0;34m)\u001b[0m\u001b[0;34m\u001b[0m\u001b[0;34m\u001b[0m\u001b[0m\n",
      "\u001b[0;31mNameError\u001b[0m: name 'Sequential' is not defined"
     ]
    }
   ],
   "source": [
    "model = Sequential()\n",
    "model.add(Dense(20, input_dim=X_train.shape[1], activation='relu'))\n",
    "model.add(Dense(50, activation='relu'))\n",
    "#model.add(Dropout(0.2))\n",
    "model.add(Dense(30, activation='relu'))\n",
    "model.add(Dense(20, activation='relu'))\n",
    "model.add(Dense(1, activation='sigmoid'))\n",
    "\n",
    "if checkpoint:\n",
    "    model.load_weights(checkpoint)\n",
    "\n",
    "file_name = os.path.basename(sys.argv[0]).split('.')[0]\n",
    "check_cb = keras.callbacks.ModelCheckpoint('tryANN/'+ file_name + '.{epoch:02d}-{val_loss:.2f}.hdf5',\n",
    "                                           monitor='val_loss',\n",
    "                                           verbose=0, save_best_only=True, mode='min')\n",
    "\n",
    "history = LossHistory()\n",
    "#keras.optimizers.RMSprop(lr=0.001)\n",
    "model.summary()\n",
    "model.compile(loss='binary_crossentropy', optimizer='adam', metrics=['accuracy',precision,recall, f1])\n",
    "\n",
    "pandas.DataFrame(model.fit(X_train, y_train, validation_data=(X_test, y_test), batch_size=34,\n",
    "          epochs=60, shuffle=True, callbacks=[ check_cb, history]).history).to_csv(\"Q4-adam-7aug-PassFail.csv\")\n",
    "\n",
    "#history_1=(model.fit(X_train, y_train, validation_data=(X_test, y_test), batch_size=100,epochs=50))\n",
    "           \n",
    "#print(\"RMSprop with 0.01 left\")\n"
   ]
  },
  {
   "cell_type": "code",
   "execution_count": 23,
   "metadata": {},
   "outputs": [
    {
     "data": {
      "image/png": "[encoded data removed]",
      "text/plain": [
       "<matplotlib.figure.Figure at 0x222b04a8>"
      ]
     },
     "metadata": {},
     "output_type": "display_data"
    },
    {
     "data": {
      "image/png": "[encoded data removed]",
      "text/plain": [
       "<matplotlib.figure.Figure at 0x21db5b70>"
      ]
     },
     "metadata": {},
     "output_type": "display_data"
    },
    {
     "data": {
      "image/png": "[encoded data removed]",
      "text/plain": [
       "<matplotlib.figure.Figure at 0x2223def0>"
      ]
     },
     "metadata": {},
     "output_type": "display_data"
    },
    {
     "data": {
      "image/png": "[encoded data removed]",
      "text/plain": [
       "<matplotlib.figure.Figure at 0x218b4da0>"
      ]
     },
     "metadata": {},
     "output_type": "display_data"
    }
   ],
   "source": [
    "plt.figure(figsize=(4,4))\n",
    "plt.plot(history_1.history['acc'])\n",
    "plt.plot(history_1.history['val_acc'])\n",
    "plt.title('model accuracy')\n",
    "plt.ylabel('accuracy')\n",
    "plt.xlabel('epoch')\n",
    "\n",
    "plt.legend(['train', 'test'], loc='upper left')\n",
    "plt.show()\n",
    "# summarize history for loss\n",
    "plt.figure(figsize=(4,4))\n",
    "plt.plot(history_1.history['loss'])\n",
    "plt.plot(history_1.history['val_loss'])\n",
    "plt.title('model loss')\n",
    "plt.ylabel('loss')\n",
    "plt.xlabel('epoch')\n",
    "plt.legend(['train', 'test'], loc='upper right')\n",
    "plt.show()\n",
    "\n",
    "plt.figure(figsize=(4,4))\n",
    "plt.plot(history_1.history['precision'])\n",
    "plt.plot(history_1.history['val_precision'])\n",
    "plt.title('model precision')\n",
    "plt.ylabel('accuracy')\n",
    "plt.xlabel('epoch')\n",
    "\n",
    "plt.legend(['train', 'test'], loc='upper left')\n",
    "plt.show()\n",
    "# summarize history for loss\n",
    "plt.figure(figsize=(4,4))\n",
    "plt.plot(history_1.history['recall'])\n",
    "plt.plot(history_1.history['val_recall'])\n",
    "plt.title('model recall')\n",
    "plt.ylabel('loss')\n",
    "plt.xlabel('epoch')\n",
    "plt.legend(['train', 'test'], loc='upper right')\n",
    "plt.show()\n",
    "\n"
   ]
  },
  {
   "cell_type": "code",
   "execution_count": null,
   "metadata": {},
   "outputs": [],
   "source": [
    "########################################################################################################################"
   ]
  },
  {
   "cell_type": "code",
   "execution_count": 25,
   "metadata": {},
   "outputs": [
    {
     "name": "stdout",
     "output_type": "stream",
     "text": [
      "[[3931  638]\n",
      " [ 595 1568]]\n",
      "              precision    recall  f1-score   support\n",
      "\n",
      "           0       0.87      0.86      0.86      4569\n",
      "           1       0.71      0.72      0.72      2163\n",
      "\n",
      "    accuracy                           0.82      6732\n",
      "   macro avg       0.79      0.79      0.79      6732\n",
      "weighted avg       0.82      0.82      0.82      6732\n",
      "\n",
      "Accuracy of sigmoid kernal:  0.8168449197860963\n",
      "loss: 0.18315508021390375\n"
     ]
    }
   ],
   "source": [
    "from sklearn.svm import SVC  \n",
    "from sklearn.metrics import accuracy_score\n",
    "from sklearn.metrics import classification_report, confusion_matrix\n",
    "from sklearn.metrics import mean_squared_error\n",
    "\n",
    "  \n",
    "svclassifier = SVC(kernel='sigmoid')  \n",
    "svclassifier.fit(X_train, y_train) \n",
    "y_pred = svclassifier.predict(X_test)  \n",
    "print(confusion_matrix(y_test, y_pred))  \n",
    "print(classification_report(y_test, y_pred))  \n",
    "\n",
    "print(\"Accuracy of sigmoid kernal: \", accuracy_score(y_test, y_pred))\n",
    "loss=mean_squared_error(y_test, y_pred)\n",
    "print(\"loss:\", loss)"
   ]
  },
  {
   "cell_type": "code",
   "execution_count": 27,
   "metadata": {},
   "outputs": [
    {
     "name": "stdout",
     "output_type": "stream",
     "text": [
      "LR-Score 0.8585858585858586\n",
      "[[4231  338]\n",
      " [ 614 1549]]\n",
      "              precision    recall  f1-score   support\n",
      "\n",
      "           0       0.87      0.93      0.90      4569\n",
      "           1       0.82      0.72      0.76      2163\n",
      "\n",
      "    accuracy                           0.86      6732\n",
      "   macro avg       0.85      0.82      0.83      6732\n",
      "weighted avg       0.86      0.86      0.86      6732\n",
      "\n",
      "loss: 0.1414141414141414\n"
     ]
    },
    {
     "name": "stderr",
     "output_type": "stream",
     "text": [
      "/opt/conda/lib/python3.7/site-packages/sklearn/linear_model/_logistic.py:940: ConvergenceWarning: lbfgs failed to converge (status=1):\n",
      "STOP: TOTAL NO. of ITERATIONS REACHED LIMIT.\n",
      "\n",
      "Increase the number of iterations (max_iter) or scale the data as shown in:\n",
      "    https://scikit-learn.org/stable/modules/preprocessing.html\n",
      "Please also refer to the documentation for alternative solver options:\n",
      "    https://scikit-learn.org/stable/modules/linear_model.html#logistic-regression\n",
      "  extra_warning_msg=_LOGISTIC_SOLVER_CONVERGENCE_MSG)\n"
     ]
    }
   ],
   "source": [
    "from sklearn.linear_model import LogisticRegression\n",
    "## Logistic regression\n",
    "logisticRegr = LogisticRegression()\n",
    "logisticRegr.fit(X_train, y_train)\n",
    "#logit = sm.Logit(y_train,X_train)\n",
    "\n",
    "predictions = logisticRegr.predict(X_test)\n",
    "score = logisticRegr.score(X_test, y_test)\n",
    "print(\"LR-Score\",score)\n",
    "\n",
    "import seaborn as sns\n",
    "from sklearn import metrics\n",
    "cm = metrics.confusion_matrix(y_test, predictions)\n",
    "print(cm)\n",
    "\n",
    "print(classification_report(y_test, predictions))\n",
    "loss=mean_squared_error(y_test, predictions)\n",
    "print(\"loss:\", loss)"
   ]
  },
  {
   "cell_type": "code",
   "execution_count": null,
   "metadata": {
    "collapsed": true,
    "jupyter": {
     "outputs_hidden": true
    }
   },
   "outputs": [],
   "source": []
  }
 ],
 "metadata": {
  "kernelspec": {
   "display_name": "Python 3",
   "language": "python",
   "name": "python3"
  },
  "language_info": {
   "codemirror_mode": {
    "name": "ipython",
    "version": 3
   },
   "file_extension": ".py",
   "mimetype": "text/x-python",
   "name": "python",
   "nbconvert_exporter": "python",
   "pygments_lexer": "ipython3",
   "version": "3.7.6"
  }
 },
 "nbformat": 4,
 "nbformat_minor": 4
}
